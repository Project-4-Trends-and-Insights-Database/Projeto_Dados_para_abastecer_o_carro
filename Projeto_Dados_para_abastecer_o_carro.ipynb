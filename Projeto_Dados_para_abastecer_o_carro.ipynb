{
  "nbformat": 4,
  "nbformat_minor": 0,
  "metadata": {
    "colab": {
      "provenance": [],
      "include_colab_link": true
    },
    "kernelspec": {
      "name": "python3",
      "display_name": "Python 3"
    },
    "language_info": {
      "name": "python"
    }
  },
  "cells": [
    {
      "cell_type": "markdown",
      "metadata": {
        "id": "view-in-github",
        "colab_type": "text"
      },
      "source": [
        "<a href=\"https://colab.research.google.com/github/Project-4-Trends-and-Insights-Database/Projeto_Dados_para_abastecer_o_carro/blob/main/Projeto_Dados_para_abastecer_o_carro.ipynb\" target=\"_parent\"><img src=\"https://colab.research.google.com/assets/colab-badge.svg\" alt=\"Open In Colab\"/></a>"
      ]
    },
    {
      "cell_type": "code",
      "execution_count": 1,
      "metadata": {
        "id": "6jJvEpOEOfBb"
      },
      "outputs": [],
      "source": [
        "import pandas as pd\n",
        "import numpy as np\n",
        "import matplotlib.pyplot as plt\n",
        "import seaborn as sns"
      ]
    },
    {
      "cell_type": "code",
      "source": [
        "# URLs dos arquivos CSV no GitHub\n",
        "\n",
        "url_mes6 = 'https://raw.githubusercontent.com/Project-4-Trends-and-Insights-Database/Projeto_Dados_para_abastecer_o_carro/main/arquivos%20csv/precos-gasolina-etanol-06.csv'\n",
        "url_mes7 = 'https://raw.githubusercontent.com/Project-4-Trends-and-Insights-Database/Projeto_Dados_para_abastecer_o_carro/main/arquivos%20csv/precos-gasolina-etanol-07.csv'"
      ],
      "metadata": {
        "id": "Ln_HUxbK2zKK"
      },
      "execution_count": 2,
      "outputs": []
    },
    {
      "cell_type": "code",
      "source": [
        "# Carregando os arquivos com os dados em DataFrames\n",
        "dados_mes6 = pd.read_csv(url_mes6, sep=';', encoding='latin1')\n",
        "dados_mes7 = pd.read_csv(url_mes7, sep=';', encoding='latin1')"
      ],
      "metadata": {
        "id": "SyuSqKzb-AZy"
      },
      "execution_count": 3,
      "outputs": []
    },
    {
      "cell_type": "code",
      "source": [
        "# Verificando as primeiras linhas dos DataFrames\n",
        "print(\"Primeiras linhas dos dados de junho:\")\n",
        "print(dados_mes6.head())\n",
        "print(\"\\nPrimeiras linhas dos dados de julho:\")\n",
        "print(dados_mes7.head())"
      ],
      "metadata": {
        "colab": {
          "base_uri": "https://localhost:8080/"
        },
        "id": "1M8Tid8ori0U",
        "outputId": "b1f1b65f-3f9b-4311-c9d9-3d1060abb8e3"
      },
      "execution_count": 13,
      "outputs": [
        {
          "output_type": "stream",
          "name": "stdout",
          "text": [
            "Primeiras linhas dos dados de junho:\n",
            "  ï»¿Regiao - Sigla Estado - Sigla     Municipio  \\\n",
            "0                NE             BA         IRECE   \n",
            "1                NE             BA         IRECE   \n",
            "2                NE             BA  SIMOES FILHO   \n",
            "3                NE             BA  SIMOES FILHO   \n",
            "4                NE             BA  SIMOES FILHO   \n",
            "\n",
            "                                             Revenda      CNPJ da Revenda  \\\n",
            "0                   IRECE DERIVADOS DE PETROLEO LTDA   09.186.976/0001-75   \n",
            "1                   IRECE DERIVADOS DE PETROLEO LTDA   09.186.976/0001-75   \n",
            "2  CORESFIL COMERCIO REVENDEDOR DE COMBUSTIVEIS LTDA   13.018.536/0003-48   \n",
            "3  CORESFIL COMERCIO REVENDEDOR DE COMBUSTIVEIS LTDA   13.018.536/0003-48   \n",
            "4  CORESFIL COMERCIO REVENDEDOR DE COMBUSTIVEIS LTDA   13.018.536/0003-48   \n",
            "\n",
            "               Nome da Rua Numero Rua Complemento  Bairro        Cep  \\\n",
            "0       PRACA AIRTON SENNA        285      TERREO  CENTRO  44900-000   \n",
            "1       PRACA AIRTON SENNA        285      TERREO  CENTRO  44900-000   \n",
            "2  AVENIDA WASHINGTON LUIZ        169         NaN  CENTRO  43700-000   \n",
            "3  AVENIDA WASHINGTON LUIZ        169         NaN  CENTRO  43700-000   \n",
            "4  AVENIDA WASHINGTON LUIZ        169         NaN  CENTRO  43700-000   \n",
            "\n",
            "              Produto Data da Coleta Valor de Venda  Valor de Compra  \\\n",
            "0              ETANOL     01/06/2023           4,31              NaN   \n",
            "1            GASOLINA     01/06/2023           5,39              NaN   \n",
            "2              ETANOL     01/06/2023           4,19              NaN   \n",
            "3  GASOLINA ADITIVADA     01/06/2023           5,36              NaN   \n",
            "4            GASOLINA     01/06/2023           5,29              NaN   \n",
            "\n",
            "  Unidade de Medida       Bandeira  \n",
            "0        R$ / litro  VIBRA ENERGIA  \n",
            "1        R$ / litro  VIBRA ENERGIA  \n",
            "2        R$ / litro  VIBRA ENERGIA  \n",
            "3        R$ / litro  VIBRA ENERGIA  \n",
            "4        R$ / litro  VIBRA ENERGIA  \n",
            "\n",
            "Primeiras linhas dos dados de julho:\n",
            "  ï»¿Regiao - Sigla Estado - Sigla        Municipio  \\\n",
            "0                SE             SP         SOROCABA   \n",
            "1                SE             SP         SOROCABA   \n",
            "2                 N             AC  CRUZEIRO DO SUL   \n",
            "3                 N             AC  CRUZEIRO DO SUL   \n",
            "4                 N             AC  CRUZEIRO DO SUL   \n",
            "\n",
            "                                             Revenda      CNPJ da Revenda  \\\n",
            "0  COMPETRO COMERCIO E DISTRIBUICAO DE DERIVADOS ...   00.003.188/0001-21   \n",
            "1  COMPETRO COMERCIO E DISTRIBUICAO DE DERIVADOS ...   00.003.188/0001-21   \n",
            "2                           CARDINAL E OLIVEIRA LTDA   03.608.766/0006-56   \n",
            "3    AMAZONIA COMERCIO DE DERIVADOS DE PETROLEO LTDA   01.492.748/0003-83   \n",
            "4    AMAZONIA COMERCIO DE DERIVADOS DE PETROLEO LTDA   01.492.748/0003-83   \n",
            "\n",
            "              Nome da Rua Numero Rua Complemento          Bairro        Cep  \\\n",
            "0  RUA HUMBERTO DE CAMPOS        306         NaN  JARDIM ZULMIRA  18061-000   \n",
            "1  RUA HUMBERTO DE CAMPOS        306         NaN  JARDIM ZULMIRA  18061-000   \n",
            "2    AVENIDA 25 DE AGOSTO       1350         NaN    25 DE AGOSTO  69980-000   \n",
            "3      AVENIDA COPACABANA        440         NaN      COPACABANA  69980-000   \n",
            "4      AVENIDA COPACABANA        440         NaN      COPACABANA  69980-000   \n",
            "\n",
            "              Produto Data da Coleta Valor de Venda  Valor de Compra  \\\n",
            "0            GASOLINA     03/07/2023           4,87              NaN   \n",
            "1              ETANOL     03/07/2023           3,27              NaN   \n",
            "2            GASOLINA     03/07/2023           6,95              NaN   \n",
            "3            GASOLINA     03/07/2023           6,93              NaN   \n",
            "4  GASOLINA ADITIVADA     03/07/2023           6,99              NaN   \n",
            "\n",
            "  Unidade de Medida       Bandeira  \n",
            "0        R$ / litro         BRANCA  \n",
            "1        R$ / litro         BRANCA  \n",
            "2        R$ / litro  VIBRA ENERGIA  \n",
            "3        R$ / litro       IPIRANGA  \n",
            "4        R$ / litro       IPIRANGA  \n"
          ]
        }
      ]
    },
    {
      "cell_type": "code",
      "source": [
        "# Informações gerais sobre os DataFrames\n",
        "print(\"\\nInformações gerais sobre os dados de junho:\")\n",
        "print(dados_mes6.info())\n",
        "print(\"\\nInformações gerais sobre os dados de julho:\")\n",
        "print(dados_mes7.info())"
      ],
      "metadata": {
        "colab": {
          "base_uri": "https://localhost:8080/"
        },
        "id": "zZg6z-6urkTK",
        "outputId": "9d2ff485-4ede-4c2a-8435-a90b2776fa22"
      },
      "execution_count": 14,
      "outputs": [
        {
          "output_type": "stream",
          "name": "stdout",
          "text": [
            "\n",
            "Informações gerais sobre os dados de junho:\n",
            "<class 'pandas.core.frame.DataFrame'>\n",
            "RangeIndex: 49041 entries, 0 to 49040\n",
            "Data columns (total 16 columns):\n",
            " #   Column             Non-Null Count  Dtype  \n",
            "---  ------             --------------  -----  \n",
            " 0   ï»¿Regiao - Sigla  49041 non-null  object \n",
            " 1   Estado - Sigla     49041 non-null  object \n",
            " 2   Municipio          49041 non-null  object \n",
            " 3   Revenda            49041 non-null  object \n",
            " 4   CNPJ da Revenda    49041 non-null  object \n",
            " 5   Nome da Rua        49041 non-null  object \n",
            " 6   Numero Rua         49023 non-null  object \n",
            " 7   Complemento        10848 non-null  object \n",
            " 8   Bairro             48935 non-null  object \n",
            " 9   Cep                49041 non-null  object \n",
            " 10  Produto            49041 non-null  object \n",
            " 11  Data da Coleta     49041 non-null  object \n",
            " 12  Valor de Venda     49041 non-null  object \n",
            " 13  Valor de Compra    0 non-null      float64\n",
            " 14  Unidade de Medida  49041 non-null  object \n",
            " 15  Bandeira           49041 non-null  object \n",
            "dtypes: float64(1), object(15)\n",
            "memory usage: 6.0+ MB\n",
            "None\n",
            "\n",
            "Informações gerais sobre os dados de julho:\n",
            "<class 'pandas.core.frame.DataFrame'>\n",
            "RangeIndex: 54515 entries, 0 to 54514\n",
            "Data columns (total 16 columns):\n",
            " #   Column             Non-Null Count  Dtype  \n",
            "---  ------             --------------  -----  \n",
            " 0   ï»¿Regiao - Sigla  54515 non-null  object \n",
            " 1   Estado - Sigla     54515 non-null  object \n",
            " 2   Municipio          54515 non-null  object \n",
            " 3   Revenda            54515 non-null  object \n",
            " 4   CNPJ da Revenda    54515 non-null  object \n",
            " 5   Nome da Rua        54515 non-null  object \n",
            " 6   Numero Rua         54495 non-null  object \n",
            " 7   Complemento        12121 non-null  object \n",
            " 8   Bairro             54397 non-null  object \n",
            " 9   Cep                54515 non-null  object \n",
            " 10  Produto            54515 non-null  object \n",
            " 11  Data da Coleta     54515 non-null  object \n",
            " 12  Valor de Venda     54515 non-null  object \n",
            " 13  Valor de Compra    0 non-null      float64\n",
            " 14  Unidade de Medida  54515 non-null  object \n",
            " 15  Bandeira           54515 non-null  object \n",
            "dtypes: float64(1), object(15)\n",
            "memory usage: 6.7+ MB\n",
            "None\n"
          ]
        }
      ]
    }
  ]
}