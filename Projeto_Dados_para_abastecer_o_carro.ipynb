{
  "nbformat": 4,
  "nbformat_minor": 0,
  "metadata": {
    "colab": {
      "provenance": [],
      "include_colab_link": true
    },
    "kernelspec": {
      "name": "python3",
      "display_name": "Python 3"
    },
    "language_info": {
      "name": "python"
    }
  },
  "cells": [
    {
      "cell_type": "markdown",
      "metadata": {
        "id": "view-in-github",
        "colab_type": "text"
      },
      "source": [
        "<a href=\"https://colab.research.google.com/github/Project-4-Trends-and-Insights-Database/Projeto_Dados_para_abastecer_o_carro/blob/main/Projeto_Dados_para_abastecer_o_carro.ipynb\" target=\"_parent\"><img src=\"https://colab.research.google.com/assets/colab-badge.svg\" alt=\"Open In Colab\"/></a>"
      ]
    },
    {
      "cell_type": "code",
      "execution_count": null,
      "metadata": {
        "id": "6jJvEpOEOfBb"
      },
      "outputs": [],
      "source": [
        "import pandas as pd\n",
        "import numpy as np\n",
        "import matplotlib.pyplot as plt\n",
        "import seaborn as sns"
      ]
    },
    {
      "cell_type": "code",
      "source": [
        "# URLs dos arquivos CSV no GitHub\n",
        "\n",
        "url_mes6 = 'https://raw.githubusercontent.com/Project-4-Trends-and-Insights-Database/Projeto_Dados_para_abastecer_o_carro/main/arquivos%20csv/precos-gasolina-etanol-06.csv'\n",
        "url_mes7 = 'https://raw.githubusercontent.com/Project-4-Trends-and-Insights-Database/Projeto_Dados_para_abastecer_o_carro/main/arquivos%20csv/precos-gasolina-etanol-07.csv'"
      ],
      "metadata": {
        "id": "Ln_HUxbK2zKK"
      },
      "execution_count": null,
      "outputs": []
    },
    {
      "cell_type": "code",
      "source": [
        "# Carregando os arquivos com os dados em DataFrames\n",
        "dados_mes6 = pd.read_csv(url_mes6, sep='\\t')  # Indicando o separador como tabulação\n",
        "dados_mes7 = pd.read_csv(url_mes7, sep='\\t')"
      ],
      "metadata": {
        "id": "SyuSqKzb-AZy"
      },
      "execution_count": null,
      "outputs": []
    },
    {
      "cell_type": "code",
      "source": [
        "# Análise exploratória para o mês de junho\n",
        "print(\"Análise exploratória para o mês de Junho:\")\n",
        "print(\"Total de registros:\", len(dados_mes6))\n",
        "print(\"Primeiras linhas:\")\n",
        "print(dados_mes6.head())\n",
        "print(\"\\nInformações gerais:\")\n",
        "print(dados_mes6.info())\n",
        "print(\"\\nResumo estatístico:\")\n",
        "print(dados_mes6.describe())"
      ],
      "metadata": {
        "colab": {
          "base_uri": "https://localhost:8080/"
        },
        "id": "z0P3jtZP_ju1",
        "outputId": "4e18f141-2a80-477b-ef92-ed4801a74604"
      },
      "execution_count": null,
      "outputs": [
        {
          "output_type": "stream",
          "name": "stdout",
          "text": [
            "Análise exploratória para o mês de Junho:\n",
            "Total de registros: 49041\n",
            "Primeiras linhas:\n",
            "  Regiao - Sigla;Estado - Sigla;Municipio;Revenda;CNPJ da Revenda;Nome da Rua;Numero Rua;Complemento;Bairro;Cep;Produto;Data da Coleta;Valor de Venda;Valor de Compra;Unidade de Medida;Bandeira\n",
            "0  NE;BA;IRECE;IRECE DERIVADOS DE PETROLEO LTDA; ...                                                                                                                                            \n",
            "1  NE;BA;IRECE;IRECE DERIVADOS DE PETROLEO LTDA; ...                                                                                                                                            \n",
            "2  NE;BA;SIMOES FILHO;CORESFIL COMERCIO REVENDEDO...                                                                                                                                            \n",
            "3  NE;BA;SIMOES FILHO;CORESFIL COMERCIO REVENDEDO...                                                                                                                                            \n",
            "4  NE;BA;SIMOES FILHO;CORESFIL COMERCIO REVENDEDO...                                                                                                                                            \n",
            "\n",
            "Informações gerais:\n",
            "<class 'pandas.core.frame.DataFrame'>\n",
            "RangeIndex: 49041 entries, 0 to 49040\n",
            "Data columns (total 1 columns):\n",
            " #   Column                                                                                                                                                                                          Non-Null Count  Dtype \n",
            "---  ------                                                                                                                                                                                          --------------  ----- \n",
            " 0   Regiao - Sigla;Estado - Sigla;Municipio;Revenda;CNPJ da Revenda;Nome da Rua;Numero Rua;Complemento;Bairro;Cep;Produto;Data da Coleta;Valor de Venda;Valor de Compra;Unidade de Medida;Bandeira  49041 non-null  object\n",
            "dtypes: object(1)\n",
            "memory usage: 383.3+ KB\n",
            "None\n",
            "\n",
            "Resumo estatístico:\n",
            "       Regiao - Sigla;Estado - Sigla;Municipio;Revenda;CNPJ da Revenda;Nome da Rua;Numero Rua;Complemento;Bairro;Cep;Produto;Data da Coleta;Valor de Venda;Valor de Compra;Unidade de Medida;Bandeira\n",
            "count                                               49041                                                                                                                                            \n",
            "unique                                              49041                                                                                                                                            \n",
            "top     NE;BA;IRECE;IRECE DERIVADOS DE PETROLEO LTDA; ...                                                                                                                                            \n",
            "freq                                                    1                                                                                                                                            \n"
          ]
        }
      ]
    },
    {
      "cell_type": "code",
      "source": [
        "# Análise exploratória para o mês de julho\n",
        "print(\"\\nAnálise exploratória para o mês de Julho:\")\n",
        "print(\"Total de registros:\", len(dados_mes7))\n",
        "print(\"Primeiras linhas:\")\n",
        "print(dados_mes7.head())\n",
        "print(\"\\nInformações gerais:\")\n",
        "print(dados_mes7.info())\n",
        "print(\"\\nResumo estatístico:\")\n",
        "print(dados_mes7.describe())"
      ],
      "metadata": {
        "colab": {
          "base_uri": "https://localhost:8080/"
        },
        "id": "DvHL4B9c_pWr",
        "outputId": "811fd6c3-97c9-41ac-b295-d12533b1a6f5"
      },
      "execution_count": null,
      "outputs": [
        {
          "output_type": "stream",
          "name": "stdout",
          "text": [
            "\n",
            "Análise exploratória para o mês de Julho:\n",
            "Total de registros: 54515\n",
            "Primeiras linhas:\n",
            "  Regiao - Sigla;Estado - Sigla;Municipio;Revenda;CNPJ da Revenda;Nome da Rua;Numero Rua;Complemento;Bairro;Cep;Produto;Data da Coleta;Valor de Venda;Valor de Compra;Unidade de Medida;Bandeira\n",
            "0  SE;SP;SOROCABA;COMPETRO COMERCIO E DISTRIBUICA...                                                                                                                                            \n",
            "1  SE;SP;SOROCABA;COMPETRO COMERCIO E DISTRIBUICA...                                                                                                                                            \n",
            "2  N;AC;CRUZEIRO DO SUL;CARDINAL E OLIVEIRA LTDA;...                                                                                                                                            \n",
            "3  N;AC;CRUZEIRO DO SUL;AMAZONIA COMERCIO DE DERI...                                                                                                                                            \n",
            "4  N;AC;CRUZEIRO DO SUL;AMAZONIA COMERCIO DE DERI...                                                                                                                                            \n",
            "\n",
            "Informações gerais:\n",
            "<class 'pandas.core.frame.DataFrame'>\n",
            "RangeIndex: 54515 entries, 0 to 54514\n",
            "Data columns (total 1 columns):\n",
            " #   Column                                                                                                                                                                                          Non-Null Count  Dtype \n",
            "---  ------                                                                                                                                                                                          --------------  ----- \n",
            " 0   Regiao - Sigla;Estado - Sigla;Municipio;Revenda;CNPJ da Revenda;Nome da Rua;Numero Rua;Complemento;Bairro;Cep;Produto;Data da Coleta;Valor de Venda;Valor de Compra;Unidade de Medida;Bandeira  54515 non-null  object\n",
            "dtypes: object(1)\n",
            "memory usage: 426.0+ KB\n",
            "None\n",
            "\n",
            "Resumo estatístico:\n",
            "       Regiao - Sigla;Estado - Sigla;Municipio;Revenda;CNPJ da Revenda;Nome da Rua;Numero Rua;Complemento;Bairro;Cep;Produto;Data da Coleta;Valor de Venda;Valor de Compra;Unidade de Medida;Bandeira\n",
            "count                                               54515                                                                                                                                            \n",
            "unique                                              54515                                                                                                                                            \n",
            "top     SE;SP;SOROCABA;COMPETRO COMERCIO E DISTRIBUICA...                                                                                                                                            \n",
            "freq                                                    1                                                                                                                                            \n"
          ]
        }
      ]
    }
  ]
}